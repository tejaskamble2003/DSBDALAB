{
  "nbformat": 4,
  "nbformat_minor": 0,
  "metadata": {
    "colab": {
      "provenance": []
    },
    "kernelspec": {
      "name": "python3",
      "display_name": "Python 3"
    },
    "language_info": {
      "name": "python"
    }
  },
  "cells": [
    {
      "cell_type": "code",
      "execution_count": 1,
      "metadata": {
        "id": "HAEBQcUNCHFo"
      },
      "outputs": [],
      "source": [
        "import requests\n",
        "from bs4 import BeautifulSoup"
      ]
    },
    {
      "cell_type": "code",
      "source": [
        "def scrape_reviews(url):\n",
        "  response = requests.get(url)\n",
        "  soup = BeautifulSoup(response.text, 'html.parser')\n",
        "  review_containers = soup.find_all('div', class_='EGFGHd')\n",
        "  for review in review_containers:\n",
        "    review_text = review.find('div', class_='h3YV2d').text.strip()\n",
        "    customer_name = review.find('div', class_='X5PpBb').text.strip()\n",
        "    rating = review.find('div', class_='iXRFPc')['aria-label'].strip()\n",
        "    print(\"Customer Name:\", customer_name)\n",
        "    print(\"\\nRatings:\",rating)\n",
        "    print(\"\\nReview:\", review_text)\n",
        "    print(\"-------------------------------------\\n\")"
      ],
      "metadata": {
        "id": "suIpunAKHKxG"
      },
      "execution_count": 2,
      "outputs": []
    },
    {
      "cell_type": "code",
      "source": [
        "url=\"https://play.google.com/store/apps/details?id=com.whatsapp&hl=en&gl=US\"\n",
        "scrape_reviews(url)"
      ],
      "metadata": {
        "colab": {
          "base_uri": "https://localhost:8080/"
        },
        "id": "YesT2F61JJVb",
        "outputId": "c7801b7b-2b91-4ef9-a449-ef39225f1270"
      },
      "execution_count": 3,
      "outputs": [
        {
          "output_type": "stream",
          "name": "stdout",
          "text": [
            "Customer Name: Jacqueline Wright\n",
            "\n",
            "Ratings: Rated 2 stars out of five stars\n",
            "\n",
            "Review: I used to like it a lot more, but it's become frustrating to use on an almost daily basis. My friends and I like to send each other voice memos but lately whatsapp will turn off my screen if I play a voice memo and will only play the sound as though I'm on a phone call and will not allow it to just play on speaker like normal. I have no updates available on my phone or on the app so I'm at a loss and annoyed enough that I'm on the search for something better\n",
            "-------------------------------------\n",
            "\n",
            "Customer Name: Sarah M.\n",
            "\n",
            "Ratings: Rated 3 stars out of five stars\n",
            "\n",
            "Review: This app needs a built-in text translation function. Every other similar app has one. It's annoying to have to open a 3rd party app to translate a message, but that's what we are forced to do if you want to read a message in a language you don't know. Groups can have people from many backgrounds. I've seen Polish, German, Spanish, Mandarin, French, Belarusian, Finninsh, etc. in some of the groups I'm in. I can read the Spanish, but the rest require another app to be able to read. Annoying.\n",
            "-------------------------------------\n",
            "\n",
            "Customer Name: T J\n",
            "\n",
            "Ratings: Rated 1 stars out of five stars\n",
            "\n",
            "Review: Not a fan of the recent app update. Please remove AI from the regular search box! Please add in the ability to customize layouts, and place the toolbar at the top. I hate all the menus at the bottom. They cover up my viewing area. The theme is now only white or black, and terrible, hard on the eyes, green was SO much better!! The AI and message floating buttons obstruct my view of my conversations too!\n",
            "-------------------------------------\n",
            "\n"
          ]
        }
      ]
    }
  ]
}